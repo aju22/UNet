{
  "cells": [
    {
      "cell_type": "markdown",
      "metadata": {
        "id": "view-in-github",
        "colab_type": "text"
      },
      "source": [
        "<a href=\"https://colab.research.google.com/github/aju22/UNet/blob/main/U_NET_from_Scratch.ipynb\" target=\"_parent\"><img src=\"https://colab.research.google.com/assets/colab-badge.svg\" alt=\"Open In Colab\"/></a>"
      ]
    },
    {
      "cell_type": "code",
      "execution_count": 9,
      "metadata": {
        "id": "bi2aZ1ipUJ2C"
      },
      "outputs": [],
      "source": [
        "import tensorflow as tf\n",
        "import tensorflow.keras.layers as layers"
      ]
    },
    {
      "cell_type": "markdown",
      "source": [
        "# Model Architecture\n",
        "\n",
        "U-Net is an architecture for semantic segmentation. It consists of a contracting path and an expansive path. \n",
        "\n",
        "The contracting path follows the typical architecture of a convolutional network. It consists of the repeated application of two 3x3 convolutions (unpadded convolutions), each followed by a rectified linear unit (ReLU) and a 2x2 max pooling operation with stride 2 for downsampling.\n",
        "\n",
        "Every step in the expansive path consists of an upsampling of the feature map followed by a 2x2 convolution (“up-convolution”) that halves the number of feature channels, a concatenation with the correspondingly cropped feature map from the contracting path, and two 3x3 convolutions, each followed by a ReLU. \n",
        "\n",
        "![](https://production-media.paperswithcode.com/methods/Screen_Shot_2020-07-07_at_9.08.00_PM_rpNArED.png)"
      ],
      "metadata": {
        "id": "65bMV3OZ-ZV4"
      }
    },
    {
      "cell_type": "code",
      "execution_count": 20,
      "metadata": {
        "id": "E8IvMtO9UbUl"
      },
      "outputs": [],
      "source": [
        "class DoubleCNN(layers.Layer):\n",
        "  def __init__(self, in_channels, out_channels):\n",
        "    super().__init__()\n",
        "\n",
        "    self.convblock = tf.keras.Sequential([\n",
        "                                     layers.Conv2D(out_channels, kernel_size = 3, strides = 1, padding = 'same', use_bias = False),\n",
        "                                     layers.BatchNormalization(),\n",
        "                                     layers.Activation('relu'),\n",
        "                                     layers.Conv2D(out_channels, kernel_size = 3, strides = 1, padding = 'same', use_bias = False),\n",
        "                                     layers.BatchNormalization(),\n",
        "                                     layers.Activation('relu'),\n",
        "                                    ])\n",
        "\n",
        "  def call(self, x):\n",
        "\n",
        "    x = self.convblock(x)\n",
        "\n",
        "    return x"
      ]
    },
    {
      "cell_type": "code",
      "execution_count": 21,
      "metadata": {
        "id": "K8ZE6zydUoYW"
      },
      "outputs": [],
      "source": [
        "class UNet(tf.keras.Model):\n",
        "  def __init__(self, in_channels = 3, out_channels = 1, features = [64, 12, 256, 512]):\n",
        "    super().__init__()\n",
        "\n",
        "    self.ups = []\n",
        "    self.downs = []\n",
        "    self.pool = layers.MaxPooling2D(pool_size = 2, strides = 2)\n",
        "\n",
        "\n",
        "    for feature in features:\n",
        "     \n",
        "      self.downs.append(DoubleCNN(in_channels, feature))\n",
        "      in_channels = feature\n",
        "\n",
        "    \n",
        "\n",
        "    for feature in reversed(features):\n",
        "      \n",
        "      self.ups.append(layers.Conv2DTranspose(feature, kernel_size = 2, strides = 2))\n",
        "      self.ups.append(DoubleCNN(feature*2, feature))\n",
        "\n",
        "\n",
        "    self.bottleneck = DoubleCNN(features[-1], features[-1]*2)\n",
        "    self.final_out = layers.Conv2D(out_channels, kernel_size = 1, padding = 'same')\n",
        "\n",
        "\n",
        "  def call(self, x):\n",
        "    skip_connections = []\n",
        "\n",
        "    for down in self.downs:\n",
        "      x = down(x)\n",
        "      skip_connections.append(x)\n",
        "      x = self.pool(x)\n",
        "\n",
        "    x = self.bottleneck(x)\n",
        "    \n",
        "    skip_connections = skip_connections[::-1]\n",
        "    \n",
        "    for i in range(0, len(self.ups), 2):\n",
        "\n",
        "      x = self.ups[i](x)\n",
        "      \n",
        "      skip_connection = skip_connections[i//2]\n",
        "      if x.shape != skip_connection.shape:\n",
        "        x = tf.compat.v1.image.resize_bilinear(x, skip_connection.shape[1:3])\n",
        "\n",
        "      concat = layers.Concatenate()([skip_connection, x])\n",
        "\n",
        "      x = self.ups[i+1](concat)\n",
        "\n",
        "    return self.final_out(x)"
      ]
    },
    {
      "cell_type": "code",
      "execution_count": 25,
      "metadata": {
        "id": "3fKbAS_AlV1x"
      },
      "outputs": [],
      "source": [
        "model = UNet(out_channels = 3)"
      ]
    },
    {
      "cell_type": "code",
      "source": [
        "x = tf.random.uniform((1, 224, 224, 3))"
      ],
      "metadata": {
        "id": "ncW2jPBD7iA8"
      },
      "execution_count": 26,
      "outputs": []
    },
    {
      "cell_type": "code",
      "source": [
        "print(model(x).shape)"
      ],
      "metadata": {
        "colab": {
          "base_uri": "https://localhost:8080/"
        },
        "id": "ik8GXQ3b7s_K",
        "outputId": "153b371f-9eb9-4bbb-9ede-ab5647d07755"
      },
      "execution_count": 27,
      "outputs": [
        {
          "output_type": "stream",
          "name": "stdout",
          "text": [
            "(1, 224, 224, 3)\n"
          ]
        }
      ]
    },
    {
      "cell_type": "code",
      "source": [
        ""
      ],
      "metadata": {
        "id": "IaS12vTy-WZp"
      },
      "execution_count": null,
      "outputs": []
    }
  ],
  "metadata": {
    "colab": {
      "collapsed_sections": [],
      "name": "U-NET from Scratch.ipynb",
      "provenance": [],
      "authorship_tag": "ABX9TyMuzGaOtoyxhegJKd2XR2q2",
      "include_colab_link": true
    },
    "kernelspec": {
      "display_name": "Python 3",
      "name": "python3"
    },
    "language_info": {
      "name": "python"
    }
  },
  "nbformat": 4,
  "nbformat_minor": 0
}